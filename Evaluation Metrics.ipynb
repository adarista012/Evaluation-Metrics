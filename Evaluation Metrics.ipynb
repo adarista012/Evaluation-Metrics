{
 "cells": [
  {
   "cell_type": "markdown",
   "id": "3faaffd3",
   "metadata": {},
   "source": [
    "# Evaluation Metrics"
   ]
  },
  {
   "cell_type": "markdown",
   "id": "de09c855",
   "metadata": {},
   "source": [
    "### Accuracy"
   ]
  },
  {
   "cell_type": "markdown",
   "id": "9545ff9d",
   "metadata": {},
   "source": [
    "Is the percent of predictions that are correct.\n",
    "\n",
    "Accuracy is a good measure if our classes are evenly split, but is very misleading if we have imbalanced classes."
   ]
  },
  {
   "cell_type": "markdown",
   "id": "e19e29dd",
   "metadata": {},
   "source": [
    "### Confusion Matrix"
   ]
  },
  {
   "cell_type": "markdown",
   "id": "7f301a20",
   "metadata": {},
   "source": [
    "The confusion Matrix is a table showing four values\n",
    "* Datapoints we predicted positive that are actually positive(TP).\n",
    "* Datapoints we predicted positive that are actually negative(TN).\n",
    "* Datapoints we predicted negative that are actually positive(FP).\n",
    "* Datapoints we predicted negative that are actually negative(FN)."
   ]
  },
  {
   "cell_type": "code",
   "execution_count": null,
   "id": "45a854e3",
   "metadata": {},
   "outputs": [],
   "source": []
  }
 ],
 "metadata": {
  "kernelspec": {
   "display_name": "Python 3 (ipykernel)",
   "language": "python",
   "name": "python3"
  },
  "language_info": {
   "codemirror_mode": {
    "name": "ipython",
    "version": 3
   },
   "file_extension": ".py",
   "mimetype": "text/x-python",
   "name": "python",
   "nbconvert_exporter": "python",
   "pygments_lexer": "ipython3",
   "version": "3.11.5"
  }
 },
 "nbformat": 4,
 "nbformat_minor": 5
}
